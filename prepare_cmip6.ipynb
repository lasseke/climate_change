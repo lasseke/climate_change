{
 "cells": [
  {
   "cell_type": "markdown",
   "metadata": {},
   "source": [
    "## Prepare CMIP6 Data for ML Models"
   ]
  },
  {
   "cell_type": "code",
   "execution_count": 90,
   "metadata": {},
   "outputs": [],
   "source": [
    "# import packages\n",
    "\n",
    "import numpy as np\n",
    "import xarray as xr\n",
    "import pandas as pd\n",
    "\n",
    "# plotting\n",
    "try:\n",
    "    import matplotlib.pyplot as plt\n",
    "    import cartopy.crs as ccrs\n",
    "except:\n",
    "    print('not installed')"
   ]
  },
  {
   "cell_type": "code",
   "execution_count": 115,
   "metadata": {},
   "outputs": [],
   "source": [
    "# define path to CMIP6 resolution 5°\n",
    "pathway = 'ssp585' # CHANGE HERE\n",
    "model = 'mri-esm2' # CHANGE HERE\n",
    "\n",
    "datadir = '/home/steidani/hackathon/2021_ai_climate/data/cmip6/' + model + '/'"
   ]
  },
  {
   "cell_type": "code",
   "execution_count": 116,
   "metadata": {},
   "outputs": [],
   "source": [
    "t2m = xr.open_mfdataset(f'{datadir}' + model + '-0_r1i1p1f1_w5e5_' + pathway + '_tas_global_daily_*.nc', combine='by_coords').tas\n",
    "precip = xr.open_mfdataset(f'{datadir}' + model + '-0_r1i1p1f1_w5e5_' + pathway + '_pr_global_daily_*.nc', combine='by_coords').pr"
   ]
  },
  {
   "cell_type": "code",
   "execution_count": 117,
   "metadata": {},
   "outputs": [],
   "source": [
    "# units:\n",
    "\n",
    "# t2m in K\n",
    "# precip in kg m-2 s-1 (flux)\n",
    "\n",
    "# ERA5 has precip unit m (sum over one day): convert precip unit\n",
    "#  1 kg/m2/s = 86400 mm/day = 86.4 m / day\n",
    "precip = precip * 86.4"
   ]
  },
  {
   "cell_type": "code",
   "execution_count": 118,
   "metadata": {},
   "outputs": [],
   "source": [
    "# make monthly means for each year\n",
    "t2m_mean = t2m.resample(time='1M', keep_attrs=True).mean(keep_attrs=True).dropna('time', how='all')\n",
    "t2m_std = t2m.resample(time='1M', keep_attrs=True).std(keep_attrs=True).dropna('time', how='all')\n",
    "precip_mean = precip.resample(time='1M', keep_attrs=True).mean(keep_attrs=True).dropna('time', how='all')\n",
    "precip_std = precip.resample(time='1M', keep_attrs=True).std(keep_attrs=True).dropna('time', how='all')"
   ]
  },
  {
   "cell_type": "code",
   "execution_count": 119,
   "metadata": {},
   "outputs": [],
   "source": [
    "# function to get the lat lon boundary of the MODIS tiles (h,v)\n",
    "\n",
    "def get_lat_lon(h,v):  \n",
    "    def _get_sinu_grid_df():\n",
    "        from pandas import read_csv\n",
    "        f = 'sn_bound_10deg.txt'\n",
    "        td = read_csv(f, skiprows=5, delim_whitespace=True)\n",
    "        td = td.assign(ihiv='h' + td.ih.astype(str).str.zfill(2) +\n",
    "                       'v' + td.iv.astype(str).str.zfill(2))\n",
    "        return td\n",
    "\n",
    "    td = _get_sinu_grid_df()\n",
    "    o = td.loc[(td.ih == int(h)) & (td.iv == int(v))]\n",
    "    latmin = o.lat_min.iloc[0]\n",
    "    lonmin = o.lon_min.iloc[0]\n",
    "    latmax = o.lat_max.iloc[0]\n",
    "    lonmax = o.lon_max.iloc[0]\n",
    "    \n",
    "    return lonmin, latmin, lonmax, latmax    "
   ]
  },
  {
   "cell_type": "code",
   "execution_count": 120,
   "metadata": {},
   "outputs": [
    {
     "name": "stderr",
     "output_type": "stream",
     "text": [
      "/home/steidani/miniconda3/envs/ai_climate_2021/lib/python3.8/site-packages/dask/array/numpy_compat.py:40: RuntimeWarning: invalid value encountered in true_divide\n",
      "  x = np.divide(x1, x2, out)\n",
      "/home/steidani/miniconda3/envs/ai_climate_2021/lib/python3.8/site-packages/dask/array/numpy_compat.py:40: RuntimeWarning: invalid value encountered in true_divide\n",
      "  x = np.divide(x1, x2, out)\n",
      "/home/steidani/miniconda3/envs/ai_climate_2021/lib/python3.8/site-packages/dask/array/numpy_compat.py:40: RuntimeWarning: invalid value encountered in true_divide\n",
      "  x = np.divide(x1, x2, out)\n",
      "/home/steidani/miniconda3/envs/ai_climate_2021/lib/python3.8/site-packages/dask/array/numpy_compat.py:40: RuntimeWarning: invalid value encountered in true_divide\n",
      "  x = np.divide(x1, x2, out)\n",
      "/home/steidani/miniconda3/envs/ai_climate_2021/lib/python3.8/site-packages/dask/array/numpy_compat.py:40: RuntimeWarning: invalid value encountered in true_divide\n",
      "  x = np.divide(x1, x2, out)\n",
      "/home/steidani/miniconda3/envs/ai_climate_2021/lib/python3.8/site-packages/dask/array/numpy_compat.py:40: RuntimeWarning: invalid value encountered in true_divide\n",
      "  x = np.divide(x1, x2, out)\n",
      "/home/steidani/miniconda3/envs/ai_climate_2021/lib/python3.8/site-packages/dask/array/numpy_compat.py:40: RuntimeWarning: invalid value encountered in true_divide\n",
      "  x = np.divide(x1, x2, out)\n",
      "/home/steidani/miniconda3/envs/ai_climate_2021/lib/python3.8/site-packages/dask/array/numpy_compat.py:40: RuntimeWarning: invalid value encountered in true_divide\n",
      "  x = np.divide(x1, x2, out)\n"
     ]
    }
   ],
   "source": [
    "# get unique tiles (combination of h and v)\n",
    "fire_counts=pd.read_csv('/home/steidani/hackathon/2021_ai_climate/data/MCD64A1/fire_counts_from_mcd64a1_meta.csv')\n",
    "hs_vs = fire_counts[[\"h\",'v']].drop_duplicates().sort_values(['h', 'v'])\n",
    "\n",
    "vs = []\n",
    "hs = []\n",
    "mean_t2m = []\n",
    "std_t2m = []\n",
    "mean_precip = []\n",
    "std_precip = []\n",
    "years = []\n",
    "months = [] \n",
    "#years = t2m_mean.time['time.year'].values\n",
    "#months = t2m_mean.time['time.month'].values\n",
    "# loop through each unique tile and get temporal evolution of precip and temp:\n",
    "for index, row in hs_vs.iterrows():\n",
    "    h = row['h']\n",
    "    v = row['v']\n",
    "    \n",
    "    # tile boundary in lat lon\n",
    "    lonmin, latmin, lonmax, latmax = get_lat_lon(h,v)\n",
    "    \n",
    "    # mean and std value\n",
    "    _mean_t2m = t2m_mean.sel(lat=slice(latmin,latmax), lon=slice(lonmin,lonmax)).mean((\"lon\", \"lat\"),skipna=True).values\n",
    "    _std_t2m = t2m_std.sel(lat=slice(latmin,latmax), lon=slice(lonmin,lonmax)).mean((\"lon\", \"lat\")).values\n",
    "    \n",
    "    _mean_precip = precip_mean.sel(lat=slice(latmin,latmax), lon=slice(lonmin,lonmax)).mean((\"lon\", \"lat\"),skipna=True).values\n",
    "    _std_precip = precip_std.sel(lat=slice(latmin,latmax), lon=slice(lonmin,lonmax)).mean((\"lon\", \"lat\")).values\n",
    "                      \n",
    "    # append to list\n",
    "    vs.extend(np.repeat(v, len(_mean_t2m)))\n",
    "    hs.extend(np.repeat(h, len(_mean_t2m)))\n",
    "    years.extend(t2m_mean.time['time.year'].values)\n",
    "    months.extend(t2m_mean.time['time.month'].values)\n",
    "    mean_t2m.extend(_mean_t2m)\n",
    "    std_t2m.extend(_std_t2m)\n",
    "    mean_precip.extend(_mean_precip)\n",
    "    std_precip.extend(_std_precip)"
   ]
  },
  {
   "cell_type": "code",
   "execution_count": 121,
   "metadata": {},
   "outputs": [
    {
     "name": "stdout",
     "output_type": "stream",
     "text": [
      "64320\n"
     ]
    },
    {
     "data": {
      "text/plain": [
       "True"
      ]
     },
     "execution_count": 121,
     "metadata": {},
     "output_type": "execute_result"
    }
   ],
   "source": [
    "# quick check\n",
    "print(len(months))\n",
    "len(months) == len(years) == len(vs) == len(mean_t2m) == len(mean_precip)"
   ]
  },
  {
   "cell_type": "code",
   "execution_count": 122,
   "metadata": {},
   "outputs": [
    {
     "data": {
      "text/html": [
       "<div>\n",
       "<style scoped>\n",
       "    .dataframe tbody tr th:only-of-type {\n",
       "        vertical-align: middle;\n",
       "    }\n",
       "\n",
       "    .dataframe tbody tr th {\n",
       "        vertical-align: top;\n",
       "    }\n",
       "\n",
       "    .dataframe thead th {\n",
       "        text-align: right;\n",
       "    }\n",
       "</style>\n",
       "<table border=\"1\" class=\"dataframe\">\n",
       "  <thead>\n",
       "    <tr style=\"text-align: right;\">\n",
       "      <th></th>\n",
       "      <th>v</th>\n",
       "      <th>h</th>\n",
       "      <th>year</th>\n",
       "      <th>month</th>\n",
       "      <th>t2m_mean</th>\n",
       "      <th>t2m_std</th>\n",
       "      <th>precip_mean</th>\n",
       "      <th>precip_std</th>\n",
       "    </tr>\n",
       "  </thead>\n",
       "  <tbody>\n",
       "    <tr>\n",
       "      <th>0</th>\n",
       "      <td>2</td>\n",
       "      <td>9</td>\n",
       "      <td>2051</td>\n",
       "      <td>1</td>\n",
       "      <td>268.706085</td>\n",
       "      <td>4.029854</td>\n",
       "      <td>0.002143</td>\n",
       "      <td>0.003096</td>\n",
       "    </tr>\n",
       "    <tr>\n",
       "      <th>1</th>\n",
       "      <td>2</td>\n",
       "      <td>9</td>\n",
       "      <td>2051</td>\n",
       "      <td>2</td>\n",
       "      <td>265.026031</td>\n",
       "      <td>4.076586</td>\n",
       "      <td>0.001627</td>\n",
       "      <td>0.003069</td>\n",
       "    </tr>\n",
       "    <tr>\n",
       "      <th>2</th>\n",
       "      <td>2</td>\n",
       "      <td>9</td>\n",
       "      <td>2051</td>\n",
       "      <td>3</td>\n",
       "      <td>264.724915</td>\n",
       "      <td>3.512778</td>\n",
       "      <td>0.001768</td>\n",
       "      <td>0.002871</td>\n",
       "    </tr>\n",
       "    <tr>\n",
       "      <th>3</th>\n",
       "      <td>2</td>\n",
       "      <td>9</td>\n",
       "      <td>2051</td>\n",
       "      <td>4</td>\n",
       "      <td>268.988159</td>\n",
       "      <td>3.209100</td>\n",
       "      <td>0.002983</td>\n",
       "      <td>0.004535</td>\n",
       "    </tr>\n",
       "    <tr>\n",
       "      <th>4</th>\n",
       "      <td>2</td>\n",
       "      <td>9</td>\n",
       "      <td>2051</td>\n",
       "      <td>5</td>\n",
       "      <td>274.280334</td>\n",
       "      <td>3.080663</td>\n",
       "      <td>0.002706</td>\n",
       "      <td>0.004281</td>\n",
       "    </tr>\n",
       "    <tr>\n",
       "      <th>...</th>\n",
       "      <td>...</td>\n",
       "      <td>...</td>\n",
       "      <td>...</td>\n",
       "      <td>...</td>\n",
       "      <td>...</td>\n",
       "      <td>...</td>\n",
       "      <td>...</td>\n",
       "      <td>...</td>\n",
       "    </tr>\n",
       "    <tr>\n",
       "      <th>64315</th>\n",
       "      <td>14</td>\n",
       "      <td>14</td>\n",
       "      <td>2100</td>\n",
       "      <td>8</td>\n",
       "      <td>277.958008</td>\n",
       "      <td>1.347812</td>\n",
       "      <td>0.003071</td>\n",
       "      <td>0.003692</td>\n",
       "    </tr>\n",
       "    <tr>\n",
       "      <th>64316</th>\n",
       "      <td>14</td>\n",
       "      <td>14</td>\n",
       "      <td>2100</td>\n",
       "      <td>9</td>\n",
       "      <td>279.675842</td>\n",
       "      <td>0.792601</td>\n",
       "      <td>0.003053</td>\n",
       "      <td>0.004892</td>\n",
       "    </tr>\n",
       "    <tr>\n",
       "      <th>64317</th>\n",
       "      <td>14</td>\n",
       "      <td>14</td>\n",
       "      <td>2100</td>\n",
       "      <td>10</td>\n",
       "      <td>279.604675</td>\n",
       "      <td>1.006945</td>\n",
       "      <td>0.003321</td>\n",
       "      <td>0.004261</td>\n",
       "    </tr>\n",
       "    <tr>\n",
       "      <th>64318</th>\n",
       "      <td>14</td>\n",
       "      <td>14</td>\n",
       "      <td>2100</td>\n",
       "      <td>11</td>\n",
       "      <td>280.725861</td>\n",
       "      <td>0.921595</td>\n",
       "      <td>0.003683</td>\n",
       "      <td>0.006172</td>\n",
       "    </tr>\n",
       "    <tr>\n",
       "      <th>64319</th>\n",
       "      <td>14</td>\n",
       "      <td>14</td>\n",
       "      <td>2100</td>\n",
       "      <td>12</td>\n",
       "      <td>282.265656</td>\n",
       "      <td>0.993644</td>\n",
       "      <td>0.002476</td>\n",
       "      <td>0.003253</td>\n",
       "    </tr>\n",
       "  </tbody>\n",
       "</table>\n",
       "<p>63840 rows × 8 columns</p>\n",
       "</div>"
      ],
      "text/plain": [
       "        v   h  year  month    t2m_mean   t2m_std  precip_mean  precip_std\n",
       "0       2   9  2051      1  268.706085  4.029854     0.002143    0.003096\n",
       "1       2   9  2051      2  265.026031  4.076586     0.001627    0.003069\n",
       "2       2   9  2051      3  264.724915  3.512778     0.001768    0.002871\n",
       "3       2   9  2051      4  268.988159  3.209100     0.002983    0.004535\n",
       "4       2   9  2051      5  274.280334  3.080663     0.002706    0.004281\n",
       "...    ..  ..   ...    ...         ...       ...          ...         ...\n",
       "64315  14  14  2100      8  277.958008  1.347812     0.003071    0.003692\n",
       "64316  14  14  2100      9  279.675842  0.792601     0.003053    0.004892\n",
       "64317  14  14  2100     10  279.604675  1.006945     0.003321    0.004261\n",
       "64318  14  14  2100     11  280.725861  0.921595     0.003683    0.006172\n",
       "64319  14  14  2100     12  282.265656  0.993644     0.002476    0.003253\n",
       "\n",
       "[63840 rows x 8 columns]"
      ]
     },
     "execution_count": 122,
     "metadata": {},
     "output_type": "execute_result"
    }
   ],
   "source": [
    "# data to dataframe\n",
    "input_csv = pd.DataFrame(sorted(list(zip(vs,hs,years,months,mean_t2m,std_t2m, mean_precip, std_precip)), key=lambda x: (x[0], x[1])) , columns=['v','h','year','month','t2m_mean','t2m_std', 'precip_mean', 'precip_std'])\n",
    "input_csv = input_csv.dropna() # unfortunately, some tiles are to small (at the edge)?\n",
    "input_csv"
   ]
  },
  {
   "cell_type": "code",
   "execution_count": 123,
   "metadata": {},
   "outputs": [],
   "source": [
    "# save as csv\n",
    "input_csv.round(4).to_csv('/home/steidani/hackathon/2021_ai_climate/data/cmip6_' + pathway + '_' + model + '.csv',index=False)"
   ]
  },
  {
   "cell_type": "code",
   "execution_count": null,
   "metadata": {},
   "outputs": [],
   "source": []
  }
 ],
 "metadata": {
  "kernelspec": {
   "display_name": "Python 3",
   "language": "python",
   "name": "python3"
  },
  "language_info": {
   "codemirror_mode": {
    "name": "ipython",
    "version": 3
   },
   "file_extension": ".py",
   "mimetype": "text/x-python",
   "name": "python",
   "nbconvert_exporter": "python",
   "pygments_lexer": "ipython3",
   "version": "3.8.6"
  }
 },
 "nbformat": 4,
 "nbformat_minor": 4
}
