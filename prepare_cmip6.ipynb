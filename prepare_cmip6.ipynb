{
 "cells": [
  {
   "cell_type": "markdown",
   "metadata": {},
   "source": [
    "## Prepare CMIP6 Data for ML Models"
   ]
  },
  {
   "cell_type": "code",
   "execution_count": 80,
   "metadata": {},
   "outputs": [],
   "source": [
    "# import packages\n",
    "\n",
    "import numpy as np\n",
    "import xarray as xr\n",
    "import pandas as pd\n",
    "\n",
    "# plotting\n",
    "try:\n",
    "    import matplotlib.pyplot as plt\n",
    "    import cartopy.crs as ccrs\n",
    "except:\n",
    "    print('not installed')"
   ]
  },
  {
   "cell_type": "code",
   "execution_count": 81,
   "metadata": {},
   "outputs": [],
   "source": [
    "# define path to CMIP6 resolution 5°\n",
    "datadir = '/home/steidani/hackathon/2021_ai_climate/data/cmip6/gfdl-esm4/'\n",
    "pathway = 'ssp370' # CHANGE HEREs"
   ]
  },
  {
   "cell_type": "code",
   "execution_count": 82,
   "metadata": {},
   "outputs": [],
   "source": [
    "t2m = xr.open_mfdataset(f'{datadir}gfdl-esm4_r1i1p1f1_w5e5_' + pathway + '_tas_global_daily_*.nc', combine='by_coords').tas\n",
    "precip = xr.open_mfdataset(f'{datadir}gfdl-esm4_r1i1p1f1_w5e5_' + pathway + '_pr_global_daily_*.nc', combine='by_coords').pr"
   ]
  },
  {
   "cell_type": "code",
   "execution_count": 83,
   "metadata": {},
   "outputs": [],
   "source": [
    "# units:\n",
    "\n",
    "# t2m in K\n",
    "# precip in kg m-2 s-1 (flux)\n",
    "\n",
    "# ERA5 has precip unit m (sum over one day): convert precip unit\n",
    "#  1 kg/m2/s = 86400 mm/day = 86.4 m / day\n",
    "precip = precip * 86.4"
   ]
  },
  {
   "cell_type": "code",
   "execution_count": 84,
   "metadata": {},
   "outputs": [],
   "source": [
    "# make monthly means for each year\n",
    "t2m_mean = t2m.resample(time='1M', keep_attrs=True).mean(keep_attrs=True).dropna('time', how='all')\n",
    "t2m_std = t2m.resample(time='1M', keep_attrs=True).std(keep_attrs=True).dropna('time', how='all')\n",
    "precip_mean = precip.resample(time='1M', keep_attrs=True).mean(keep_attrs=True).dropna('time', how='all')\n",
    "precip_std = precip.resample(time='1M', keep_attrs=True).std(keep_attrs=True).dropna('time', how='all')"
   ]
  },
  {
   "cell_type": "code",
   "execution_count": 85,
   "metadata": {},
   "outputs": [],
   "source": [
    "# function to get the lat lon boundary of the MODIS tiles (h,v)\n",
    "\n",
    "def get_lat_lon(h,v):  \n",
    "    def _get_sinu_grid_df():\n",
    "        from pandas import read_csv\n",
    "        f = 'sn_bound_10deg.txt'\n",
    "        td = read_csv(f, skiprows=5, delim_whitespace=True)\n",
    "        td = td.assign(ihiv='h' + td.ih.astype(str).str.zfill(2) +\n",
    "                       'v' + td.iv.astype(str).str.zfill(2))\n",
    "        return td\n",
    "\n",
    "    td = _get_sinu_grid_df()\n",
    "    o = td.loc[(td.ih == int(h)) & (td.iv == int(v))]\n",
    "    latmin = o.lat_min.iloc[0]\n",
    "    lonmin = o.lon_min.iloc[0]\n",
    "    latmax = o.lat_max.iloc[0]\n",
    "    lonmax = o.lon_max.iloc[0]\n",
    "    \n",
    "    return lonmin, latmin, lonmax, latmax    "
   ]
  },
  {
   "cell_type": "code",
   "execution_count": 86,
   "metadata": {},
   "outputs": [
    {
     "name": "stderr",
     "output_type": "stream",
     "text": [
      "/home/steidani/miniconda3/envs/ai_climate_2021/lib/python3.8/site-packages/dask/array/numpy_compat.py:40: RuntimeWarning: invalid value encountered in true_divide\n",
      "  x = np.divide(x1, x2, out)\n",
      "/home/steidani/miniconda3/envs/ai_climate_2021/lib/python3.8/site-packages/dask/array/numpy_compat.py:40: RuntimeWarning: invalid value encountered in true_divide\n",
      "  x = np.divide(x1, x2, out)\n",
      "/home/steidani/miniconda3/envs/ai_climate_2021/lib/python3.8/site-packages/dask/array/numpy_compat.py:40: RuntimeWarning: invalid value encountered in true_divide\n",
      "  x = np.divide(x1, x2, out)\n",
      "/home/steidani/miniconda3/envs/ai_climate_2021/lib/python3.8/site-packages/dask/array/numpy_compat.py:40: RuntimeWarning: invalid value encountered in true_divide\n",
      "  x = np.divide(x1, x2, out)\n",
      "/home/steidani/miniconda3/envs/ai_climate_2021/lib/python3.8/site-packages/dask/array/numpy_compat.py:40: RuntimeWarning: invalid value encountered in true_divide\n",
      "  x = np.divide(x1, x2, out)\n",
      "/home/steidani/miniconda3/envs/ai_climate_2021/lib/python3.8/site-packages/dask/array/numpy_compat.py:40: RuntimeWarning: invalid value encountered in true_divide\n",
      "  x = np.divide(x1, x2, out)\n",
      "/home/steidani/miniconda3/envs/ai_climate_2021/lib/python3.8/site-packages/dask/array/numpy_compat.py:40: RuntimeWarning: invalid value encountered in true_divide\n",
      "  x = np.divide(x1, x2, out)\n",
      "/home/steidani/miniconda3/envs/ai_climate_2021/lib/python3.8/site-packages/dask/array/numpy_compat.py:40: RuntimeWarning: invalid value encountered in true_divide\n",
      "  x = np.divide(x1, x2, out)\n"
     ]
    }
   ],
   "source": [
    "# get unique tiles (combination of h and v)\n",
    "fire_counts=pd.read_csv('/home/steidani/hackathon/2021_ai_climate/data/MCD64A1/fire_counts_from_mcd64a1_meta.csv')\n",
    "hs_vs = fire_counts[[\"h\",'v']].drop_duplicates().sort_values(['h', 'v'])\n",
    "\n",
    "vs = []\n",
    "hs = []\n",
    "mean_t2m = []\n",
    "std_t2m = []\n",
    "mean_precip = []\n",
    "std_precip = []\n",
    "years = []\n",
    "months = [] \n",
    "#years = t2m_mean.time['time.year'].values\n",
    "#months = t2m_mean.time['time.month'].values\n",
    "# loop through each unique tile and get temporal evolution of precip and temp:\n",
    "for index, row in hs_vs.iterrows():\n",
    "    h = row['h']\n",
    "    v = row['v']\n",
    "    \n",
    "    # tile boundary in lat lon\n",
    "    lonmin, latmin, lonmax, latmax = get_lat_lon(h,v)\n",
    "    \n",
    "    # mean and std value\n",
    "    _mean_t2m = t2m_mean.sel(lat=slice(latmin,latmax), lon=slice(lonmin,lonmax)).mean((\"lon\", \"lat\"),skipna=True).values\n",
    "    _std_t2m = t2m_std.sel(lat=slice(latmin,latmax), lon=slice(lonmin,lonmax)).mean((\"lon\", \"lat\")).values\n",
    "    \n",
    "    _mean_precip = precip_mean.sel(lat=slice(latmin,latmax), lon=slice(lonmin,lonmax)).mean((\"lon\", \"lat\"),skipna=True).values\n",
    "    _std_precip = precip_std.sel(lat=slice(latmin,latmax), lon=slice(lonmin,lonmax)).mean((\"lon\", \"lat\")).values\n",
    "                      \n",
    "    # append to list\n",
    "    vs.extend(np.repeat(v, len(_mean_t2m)))\n",
    "    hs.extend(np.repeat(h, len(_mean_t2m)))\n",
    "    years.extend(t2m_mean.time['time.year'].values)\n",
    "    months.extend(t2m_mean.time['time.month'].values)\n",
    "    mean_t2m.extend(_mean_t2m)\n",
    "    std_t2m.extend(_std_t2m)\n",
    "    mean_precip.extend(_mean_precip)\n",
    "    std_precip.extend(_std_precip)"
   ]
  },
  {
   "cell_type": "code",
   "execution_count": 87,
   "metadata": {},
   "outputs": [
    {
     "name": "stdout",
     "output_type": "stream",
     "text": [
      "64320\n"
     ]
    },
    {
     "data": {
      "text/plain": [
       "True"
      ]
     },
     "execution_count": 87,
     "metadata": {},
     "output_type": "execute_result"
    }
   ],
   "source": [
    "# quick check\n",
    "print(len(months))\n",
    "len(months) == len(years) == len(vs) == len(mean_t2m) == len(mean_precip)"
   ]
  },
  {
   "cell_type": "code",
   "execution_count": 88,
   "metadata": {},
   "outputs": [
    {
     "data": {
      "text/html": [
       "<div>\n",
       "<style scoped>\n",
       "    .dataframe tbody tr th:only-of-type {\n",
       "        vertical-align: middle;\n",
       "    }\n",
       "\n",
       "    .dataframe tbody tr th {\n",
       "        vertical-align: top;\n",
       "    }\n",
       "\n",
       "    .dataframe thead th {\n",
       "        text-align: right;\n",
       "    }\n",
       "</style>\n",
       "<table border=\"1\" class=\"dataframe\">\n",
       "  <thead>\n",
       "    <tr style=\"text-align: right;\">\n",
       "      <th></th>\n",
       "      <th>v</th>\n",
       "      <th>h</th>\n",
       "      <th>year</th>\n",
       "      <th>month</th>\n",
       "      <th>t2m_mean</th>\n",
       "      <th>t2m_std</th>\n",
       "      <th>precip_mean</th>\n",
       "      <th>precip_std</th>\n",
       "    </tr>\n",
       "  </thead>\n",
       "  <tbody>\n",
       "    <tr>\n",
       "      <th>0</th>\n",
       "      <td>2</td>\n",
       "      <td>9</td>\n",
       "      <td>2051</td>\n",
       "      <td>1</td>\n",
       "      <td>259.454834</td>\n",
       "      <td>5.971936</td>\n",
       "      <td>0.001270</td>\n",
       "      <td>0.002139</td>\n",
       "    </tr>\n",
       "    <tr>\n",
       "      <th>1</th>\n",
       "      <td>2</td>\n",
       "      <td>9</td>\n",
       "      <td>2051</td>\n",
       "      <td>2</td>\n",
       "      <td>266.466919</td>\n",
       "      <td>5.932872</td>\n",
       "      <td>0.001880</td>\n",
       "      <td>0.002858</td>\n",
       "    </tr>\n",
       "    <tr>\n",
       "      <th>2</th>\n",
       "      <td>2</td>\n",
       "      <td>9</td>\n",
       "      <td>2051</td>\n",
       "      <td>3</td>\n",
       "      <td>264.654724</td>\n",
       "      <td>4.026393</td>\n",
       "      <td>0.002620</td>\n",
       "      <td>0.003891</td>\n",
       "    </tr>\n",
       "    <tr>\n",
       "      <th>3</th>\n",
       "      <td>2</td>\n",
       "      <td>9</td>\n",
       "      <td>2051</td>\n",
       "      <td>4</td>\n",
       "      <td>266.299377</td>\n",
       "      <td>4.163392</td>\n",
       "      <td>0.000721</td>\n",
       "      <td>0.001195</td>\n",
       "    </tr>\n",
       "    <tr>\n",
       "      <th>4</th>\n",
       "      <td>2</td>\n",
       "      <td>9</td>\n",
       "      <td>2051</td>\n",
       "      <td>5</td>\n",
       "      <td>273.952820</td>\n",
       "      <td>2.477456</td>\n",
       "      <td>0.000812</td>\n",
       "      <td>0.001568</td>\n",
       "    </tr>\n",
       "    <tr>\n",
       "      <th>...</th>\n",
       "      <td>...</td>\n",
       "      <td>...</td>\n",
       "      <td>...</td>\n",
       "      <td>...</td>\n",
       "      <td>...</td>\n",
       "      <td>...</td>\n",
       "      <td>...</td>\n",
       "      <td>...</td>\n",
       "    </tr>\n",
       "    <tr>\n",
       "      <th>64315</th>\n",
       "      <td>14</td>\n",
       "      <td>14</td>\n",
       "      <td>2100</td>\n",
       "      <td>8</td>\n",
       "      <td>275.371552</td>\n",
       "      <td>2.234290</td>\n",
       "      <td>0.003379</td>\n",
       "      <td>0.003949</td>\n",
       "    </tr>\n",
       "    <tr>\n",
       "      <th>64316</th>\n",
       "      <td>14</td>\n",
       "      <td>14</td>\n",
       "      <td>2100</td>\n",
       "      <td>9</td>\n",
       "      <td>276.401947</td>\n",
       "      <td>1.704601</td>\n",
       "      <td>0.003373</td>\n",
       "      <td>0.003530</td>\n",
       "    </tr>\n",
       "    <tr>\n",
       "      <th>64317</th>\n",
       "      <td>14</td>\n",
       "      <td>14</td>\n",
       "      <td>2100</td>\n",
       "      <td>10</td>\n",
       "      <td>278.187225</td>\n",
       "      <td>1.333710</td>\n",
       "      <td>0.002549</td>\n",
       "      <td>0.003164</td>\n",
       "    </tr>\n",
       "    <tr>\n",
       "      <th>64318</th>\n",
       "      <td>14</td>\n",
       "      <td>14</td>\n",
       "      <td>2100</td>\n",
       "      <td>11</td>\n",
       "      <td>279.342834</td>\n",
       "      <td>1.133068</td>\n",
       "      <td>0.003176</td>\n",
       "      <td>0.004388</td>\n",
       "    </tr>\n",
       "    <tr>\n",
       "      <th>64319</th>\n",
       "      <td>14</td>\n",
       "      <td>14</td>\n",
       "      <td>2100</td>\n",
       "      <td>12</td>\n",
       "      <td>280.471985</td>\n",
       "      <td>0.978073</td>\n",
       "      <td>0.003063</td>\n",
       "      <td>0.004063</td>\n",
       "    </tr>\n",
       "  </tbody>\n",
       "</table>\n",
       "<p>63840 rows × 8 columns</p>\n",
       "</div>"
      ],
      "text/plain": [
       "        v   h  year  month    t2m_mean   t2m_std  precip_mean  precip_std\n",
       "0       2   9  2051      1  259.454834  5.971936     0.001270    0.002139\n",
       "1       2   9  2051      2  266.466919  5.932872     0.001880    0.002858\n",
       "2       2   9  2051      3  264.654724  4.026393     0.002620    0.003891\n",
       "3       2   9  2051      4  266.299377  4.163392     0.000721    0.001195\n",
       "4       2   9  2051      5  273.952820  2.477456     0.000812    0.001568\n",
       "...    ..  ..   ...    ...         ...       ...          ...         ...\n",
       "64315  14  14  2100      8  275.371552  2.234290     0.003379    0.003949\n",
       "64316  14  14  2100      9  276.401947  1.704601     0.003373    0.003530\n",
       "64317  14  14  2100     10  278.187225  1.333710     0.002549    0.003164\n",
       "64318  14  14  2100     11  279.342834  1.133068     0.003176    0.004388\n",
       "64319  14  14  2100     12  280.471985  0.978073     0.003063    0.004063\n",
       "\n",
       "[63840 rows x 8 columns]"
      ]
     },
     "execution_count": 88,
     "metadata": {},
     "output_type": "execute_result"
    }
   ],
   "source": [
    "# data to dataframe\n",
    "input_csv = pd.DataFrame(sorted(list(zip(vs,hs,years,months,mean_t2m,std_t2m, mean_precip, std_precip)), key=lambda x: (x[0], x[1])) , columns=['v','h','year','month','t2m_mean','t2m_std', 'precip_mean', 'precip_std'])\n",
    "input_csv = input_csv.dropna() # unfortunately, some tiles are to small (at the edge)?\n",
    "input_csv"
   ]
  },
  {
   "cell_type": "code",
   "execution_count": 89,
   "metadata": {},
   "outputs": [],
   "source": [
    "# save as csv\n",
    "input_csv.round(4).to_csv('/home/steidani/hackathon/2021_ai_climate/data/cmip6_' + pathway + '.csv',index=False)"
   ]
  },
  {
   "cell_type": "code",
   "execution_count": null,
   "metadata": {},
   "outputs": [],
   "source": []
  }
 ],
 "metadata": {
  "kernelspec": {
   "display_name": "Python 3",
   "language": "python",
   "name": "python3"
  },
  "language_info": {
   "codemirror_mode": {
    "name": "ipython",
    "version": 3
   },
   "file_extension": ".py",
   "mimetype": "text/x-python",
   "name": "python",
   "nbconvert_exporter": "python",
   "pygments_lexer": "ipython3",
   "version": "3.8.6"
  }
 },
 "nbformat": 4,
 "nbformat_minor": 4
}
