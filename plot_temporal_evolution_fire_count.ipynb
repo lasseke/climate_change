{
 "cells": [
  {
   "cell_type": "markdown",
   "metadata": {},
   "source": [
    "### Look at input data"
   ]
  },
  {
   "cell_type": "code",
   "execution_count": 131,
   "metadata": {},
   "outputs": [],
   "source": [
    "# import packages\n",
    "\n",
    "import numpy as np\n",
    "import xarray as xr\n",
    "import pandas as pd\n",
    "\n",
    "# plotting\n",
    "try:\n",
    "    import matplotlib.pyplot as plt\n",
    "    import cartopy.crs as ccrs\n",
    "except:\n",
    "    print('not installed')"
   ]
  },
  {
   "cell_type": "code",
   "execution_count": 132,
   "metadata": {},
   "outputs": [],
   "source": [
    "# load csv data\n",
    "\n",
    "# observation\n",
    "df_obs = pd.read_csv('/home/steidani/hackathon/2021_ai_climate/data/fire_precip_temp.csv')\n",
    "\n",
    "# CMIP6 prediction\n",
    "df_ssp126gfdl = pd.read_csv('/home/steidani/hackathon/2021_ai_climate/data/cmip6_ssp126gfdl_firecounts_predicted.csv')\n",
    "df_ssp370gfdl = pd.read_csv('/home/steidani/hackathon/2021_ai_climate/data/cmip6_ssp370gfdl_firecounts_predicted.csv')\n",
    "df_ssp585gfdl = pd.read_csv('/home/steidani/hackathon/2021_ai_climate/data/cmip6_ssp585gfdl_firecounts_predicted.csv')\n",
    "\n",
    "df_ssp126mri = pd.read_csv('/home/steidani/hackathon/2021_ai_climate/data/cmip6_ssp126mri_firecounts_predicted.csv')\n",
    "df_ssp370mri = pd.read_csv('/home/steidani/hackathon/2021_ai_climate/data/cmip6_ssp370mri_firecounts_predicted.csv')\n",
    "df_ssp585mri = pd.read_csv('/home/steidani/hackathon/2021_ai_climate/data/cmip6_ssp585mri_firecounts_predicted.csv')"
   ]
  },
  {
   "cell_type": "code",
   "execution_count": 133,
   "metadata": {},
   "outputs": [],
   "source": [
    "### plot temporal evolution of global fire counts\n",
    "\n",
    "# group by (sum of burned cells) year and month\n",
    "#test = df_obs.groupby(['year','month']).sum().reset_index().sort_values(['year', 'month'])\n",
    "df_obs = df_obs.groupby(['year']).sum().reset_index().sort_values(['year'])\n",
    "df_ssp126gfdl = df_ssp126gfdl.groupby(['year']).sum().reset_index().sort_values(['year'])\n",
    "df_ssp370gfdl = df_ssp370gfdl.groupby(['year']).sum().reset_index().sort_values(['year'])\n",
    "df_ssp585gfdl = df_ssp585gfdl.groupby(['year']).sum().reset_index().sort_values(['year'])\n",
    "df_ssp126mri = df_ssp126mri.groupby(['year']).sum().reset_index().sort_values(['year'])\n",
    "df_ssp370mri = df_ssp370mri.groupby(['year']).sum().reset_index().sort_values(['year'])\n",
    "df_ssp585mri = df_ssp585mri.groupby(['year']).sum().reset_index().sort_values(['year'])"
   ]
  },
  {
   "cell_type": "code",
   "execution_count": 134,
   "metadata": {},
   "outputs": [],
   "source": [
    "# mean and std between two models\n",
    "df_ssp585 = (df_ssp585gfdl['BurnedCells']+ df_ssp585mri['BurnedCells'])/2\n",
    "df_ssp370 = (df_ssp370gfdl['BurnedCells']+ df_ssp370mri['BurnedCells'])/2"
   ]
  },
  {
   "cell_type": "code",
   "execution_count": 138,
   "metadata": {},
   "outputs": [
    {
     "data": {
      "image/png": "[encoded data removed]",
      "text/plain": [
       "<Figure size 504x216 with 1 Axes>"
      ]
     },
     "metadata": {
      "needs_background": "light"
     },
     "output_type": "display_data"
    }
   ],
   "source": [
    "f, ax = plt.subplots(1,1, figsize=(7,3))\n",
    "\n",
    "# obs\n",
    "plt.plot(np.arange(0,19,1), df_obs.BurnedCells[1:-1], color='black', label='obs.')\n",
    "# gfdl\n",
    "plt.plot(np.arange(26,36,1), df_ssp126gfdl.BurnedCells[0:10], color = 'green', label='SSP126')\n",
    "plt.plot(np.arange(26,36,1), df_ssp370[0:10], color = 'orange', label='SSP370')\n",
    "plt.plot(np.arange(26,36,1), df_ssp585[0:10], color = 'red', label='SSP585')\n",
    "plt.plot(np.arange(43,52,1), df_ssp126gfdl.BurnedCells[10:-1], color = 'green')\n",
    "plt.plot(np.arange(43,52,1), df_ssp370[10:-1], color = 'orange')\n",
    "plt.plot(np.arange(43,52,1), df_ssp585[10:-1], color = 'red')\n",
    "\n",
    "#mri\n",
    "#plt.plot(np.arange(26,36,1), df_ssp126mri.BurnedCells[0:10], color = 'green', linestyle='--')\n",
    "#plt.plot(np.arange(26,36,1), df_ssp370mri.BurnedCells[0:10], color = 'orange', linestyle='--')\n",
    "#plt.plot(np.arange(26,36,1), df_ssp585mri.BurnedCells[0:10], color = 'red', linestyle='--')\n",
    "#plt.plot(np.arange(43,52,1), df_ssp126mri.BurnedCells[10:-1], color = 'green', linestyle='--')\n",
    "#plt.plot(np.arange(43,52,1), df_ssp370mri.BurnedCells[10:-1], color = 'orange', linestyle='--')\n",
    "#plt.plot(np.arange(43,52,1), df_ssp585mri.BurnedCells[10:-1], color = 'red', linestyle='--')\n",
    "\n",
    "# make nice\n",
    "plt.xticks([0,4,9,14,18, 22, 26, 30, 35, 39, 43, 47, 51 ],['2001', '2005', '2010', '2015', '2019', '//', '2051', '2055', '2060', '//', '2091', '2095', '2100'])\n",
    "plt.ylabel('global Burned Cells')\n",
    "plt.xlabel('year')\n",
    "legend1 = plt.legend(loc=\"upper left\", title=\"Pathways\")\n",
    "\n",
    "# add second legend\n",
    "#from matplotlib.lines import Line2D\n",
    "#linestyles = ['-', '--']\n",
    "#lines = [Line2D([0], [0], color='gray', linewidth=3, linestyle=c) for c in linestyles]\n",
    "#labels = ['GFDL-ESM4', 'MRI-ESM2']\n",
    "#legend2 = plt.legend(lines, labels, loc=\"lower right\", title=\"CMIP6 Models\")\n",
    "#plt.gca().add_artist(legend1)\n",
    "\n",
    "plt.savefig('fire_count_prediction_lineplot_gfdl_mri.png',bbox_inches='tight')"
   ]
  },
  {
   "cell_type": "code",
   "execution_count": null,
   "metadata": {},
   "outputs": [],
   "source": []
  }
 ],
 "metadata": {
  "kernelspec": {
   "display_name": "Python 3",
   "language": "python",
   "name": "python3"
  },
  "language_info": {
   "codemirror_mode": {
    "name": "ipython",
    "version": 3
   },
   "file_extension": ".py",
   "mimetype": "text/x-python",
   "name": "python",
   "nbconvert_exporter": "python",
   "pygments_lexer": "ipython3",
   "version": "3.8.6"
  }
 },
 "nbformat": 4,
 "nbformat_minor": 4
}
