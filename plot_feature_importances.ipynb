{
 "cells": [
  {
   "cell_type": "code",
   "execution_count": 1,
   "metadata": {},
   "outputs": [
    {
     "name": "stdout",
     "output_type": "stream",
     "text": [
      "Loading modules...\n"
     ]
    }
   ],
   "source": [
    "print('Loading modules...')\n",
    "import pickle\n",
    "from sklearn.ensemble import RandomForestRegressor, GradientBoostingRegressor\n",
    "from sklearn.preprocessing import MinMaxScaler, Normalizer\n",
    "from sklearn.linear_model import LinearRegression\n",
    "from sklearn.model_selection import train_test_split\n",
    "from sklearn import preprocessing\n",
    "import sklearn\n",
    "import argparse\n",
    "import numpy as np\n",
    "import matplotlib.pyplot as plt\n",
    "import pandas as pd"
   ]
  },
  {
   "cell_type": "code",
   "execution_count": 2,
   "metadata": {},
   "outputs": [],
   "source": [
    "\n",
    "regressor = 'rf'\n",
    "input_dim = 25 #maybe more later\n",
    "\n",
    "precip_mean = np.load('./data/precip_mean.npy')\n",
    "precip_std = np.load('./data/precip_std.npy')\n",
    "temp_mean = np.load('./data/temp_mean.npy')\n",
    "temp_std = np.load('./data/temp_std.npy')\n",
    "land_cells = np.load('./data/land_cells.npy')\n",
    "v_coord = np.load('./data/v_coord.npy')\n",
    "h_coord = np.load('./data/h_coord.npy')\n",
    "p_m_past_month = np.load('./data/p_mean_past_month.npy')\n",
    "p_s_past_month = np.load('./data/p_std_past_month.npy')\n",
    "t_m_past_month = np.load('./data/t_mean_past_month.npy')\n",
    "t_s_past_month = np.load('./data/t_std_past_month.npy')\n",
    "years = np.load('./data/years.npy')\n",
    "ltc = np.load('./data/ltc.npy')\n",
    "\n",
    "fire_counts = np.load('./data/fire_counts.npy') #assuming dim n_pointsx1\n",
    "n_points = len(fire_counts)\n",
    "\n",
    "X = np.zeros((n_points, input_dim))\n",
    "y = fire_counts\n",
    "\n",
    "\n"
   ]
  },
  {
   "cell_type": "code",
   "execution_count": 3,
   "metadata": {},
   "outputs": [
    {
     "name": "stdout",
     "output_type": "stream",
     "text": [
      "60348\n"
     ]
    }
   ],
   "source": [
    "for i in range(n_points):\n",
    "    X[i,0] = precip_mean[i]\n",
    "    X[i,1] = precip_std[i]\n",
    "    X[i,2] = temp_mean[i]\n",
    "    X[i,3] = temp_std[i]\n",
    "    X[i,4] = land_cells[i]\n",
    "    kl = 0\n",
    "    for j in range(16):\n",
    "\n",
    "        X[i,5+j]=ltc[j,i]\n",
    "\n",
    "    X[i,21] = p_m_past_month[i]\n",
    "    X[i,22] = p_s_past_month[i]\n",
    "    X[i,23] = t_m_past_month[i]\n",
    "    X[i,24] = t_s_past_month[i]\n",
    "\n",
    "\n",
    "print(n_points)\n",
    "\n"
   ]
  },
  {
   "cell_type": "code",
   "execution_count": 5,
   "metadata": {},
   "outputs": [
    {
     "name": "stdout",
     "output_type": "stream",
     "text": [
      "Training Regressor...\n"
     ]
    }
   ],
   "source": [
    "\n",
    "\n",
    "if regressor == 'rf':\n",
    "    regr = RandomForestRegressor()\n",
    "elif regressor == 'lr':\n",
    "    regr = LinearRegression()\n",
    "elif regressor == 'gbt':\n",
    "    regr = GradientBoostingRegressor()\n",
    "\n",
    "print('Training Regressor...')\n",
    "\n",
    "regr.fit(X,y)\n",
    "\n",
    "#save regressor\n",
    "\n",
    "#save regressor features\n",
    "#if regressor == 'rf':\n",
    " #   np.save('./data/models/regressor_feats/feat_imp_'+regressor,regr.feature_importances_)\n",
    "\n",
    "importances = regr.feature_importances_"
   ]
  },
  {
   "cell_type": "code",
   "execution_count": 7,
   "metadata": {},
   "outputs": [
    {
     "data": {
      "text/plain": [
       "array([0.2789159 , 0.04672077, 0.05163252, 0.04263811, 0.00842945,\n",
       "       0.05312827, 0.04796502, 0.00079517, 0.00656571, 0.02567891,\n",
       "       0.01010109, 0.01122075, 0.01022232, 0.11646681, 0.03640645,\n",
       "       0.00967527, 0.02381017, 0.02225498, 0.02195386, 0.00071241,\n",
       "       0.03829798, 0.04799376, 0.01498961, 0.03223221, 0.04119251])"
      ]
     },
     "execution_count": 7,
     "metadata": {},
     "output_type": "execute_result"
    }
   ],
   "source": [
    "importances"
   ]
  },
  {
   "cell_type": "code",
   "execution_count": 34,
   "metadata": {},
   "outputs": [],
   "source": [
    "feature_names = ['precip mean','precip std','temp mean','temp std','land cover','pr/tmp month before']"
   ]
  },
  {
   "cell_type": "code",
   "execution_count": 35,
   "metadata": {},
   "outputs": [],
   "source": [
    "feature_imps=np.zeros((6,))\n",
    "feature_imps[0]=importances[0]\n",
    "feature_imps[1]=importances[1]\n",
    "feature_imps[2]=importances[2]\n",
    "feature_imps[3]=importances[3]\n",
    "feature_imps[4]=np.sum(importances[4:21])\n",
    "feature_imps[5]=np.sum(importances[21:])"
   ]
  },
  {
   "cell_type": "code",
   "execution_count": 36,
   "metadata": {},
   "outputs": [
    {
     "data": {
      "image/png": "[encoded data removed]",
      "text/plain": [
       "<Figure size 640x480 with 1 Axes>"
      ]
     },
     "metadata": {},
     "output_type": "display_data"
    }
   ],
   "source": [
    "plt.rcdefaults()\n",
    "fig, ax = plt.subplots()\n",
    "\n",
    "# Example data\n",
    "people = ('Tom', 'Dick', 'Harry', 'Slim', 'Jim')\n",
    "y_pos = np.arange(6)\n",
    "performance = 3 + 10 * np.random.rand(len(people))\n",
    "error = np.zeros((6,))\n",
    "\n",
    "ax.barh(y_pos, feature_imps, xerr=error, align='center')\n",
    "ax.set_yticks(y_pos)\n",
    "ax.set_yticklabels(feature_names)\n",
    "ax.invert_yaxis()  # labels read top-to-bottom\n",
    "ax.set_xlabel('Importance')\n",
    "ax.set_title('Input feature importances for RF regressor')\n",
    "#plt.gcf().subplots_adjust(left=0.5)\n",
    "plt.show()\n",
    "fig.savefig('feature_importances',bbox_inches='tight')"
   ]
  },
  {
   "cell_type": "code",
   "execution_count": null,
   "metadata": {},
   "outputs": [],
   "source": []
  }
 ],
 "metadata": {
  "kernelspec": {
   "display_name": "Python [conda env:.conda-paulapytorch]",
   "language": "python",
   "name": "conda-env-.conda-paulapytorch-py"
  },
  "language_info": {
   "codemirror_mode": {
    "name": "ipython",
    "version": 3
   },
   "file_extension": ".py",
   "mimetype": "text/x-python",
   "name": "python",
   "nbconvert_exporter": "python",
   "pygments_lexer": "ipython3",
   "version": "3.8.3"
  }
 },
 "nbformat": 4,
 "nbformat_minor": 4
}
